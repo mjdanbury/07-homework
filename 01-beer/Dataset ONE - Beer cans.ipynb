{
 "cells": [
  {
   "cell_type": "markdown",
   "metadata": {
    "collapsed": true,
    "jupyter": {
     "outputs_hidden": true
    }
   },
   "source": [
    "# Homework 7, Part One: Lots and lots of questions about beer"
   ]
  },
  {
   "cell_type": "markdown",
   "metadata": {},
   "source": [
    "### Do your importing and your setup"
   ]
  },
  {
   "cell_type": "code",
   "execution_count": 1,
   "metadata": {},
   "outputs": [
    {
     "name": "stdout",
     "output_type": "stream",
     "text": [
      "Intel MKL WARNING: Support of Intel(R) Streaming SIMD Extensions 4.2 (Intel(R) SSE4.2) enabled only processors has been deprecated. Intel oneAPI Math Kernel Library 2025.0 will require Intel(R) Advanced Vector Extensions (Intel(R) AVX) instructions.\n",
      "Intel MKL WARNING: Support of Intel(R) Streaming SIMD Extensions 4.2 (Intel(R) SSE4.2) enabled only processors has been deprecated. Intel oneAPI Math Kernel Library 2025.0 will require Intel(R) Advanced Vector Extensions (Intel(R) AVX) instructions.\n"
     ]
    }
   ],
   "source": [
    "import pandas as pd"
   ]
  },
  {
   "cell_type": "markdown",
   "metadata": {},
   "source": [
    "## Read in the file `craftcans.csv`, and look at the first first rows"
   ]
  },
  {
   "cell_type": "code",
   "execution_count": 53,
   "metadata": {},
   "outputs": [],
   "source": [
    "df = pd.read_csv('craftcans.csv',na_values={'IBUs':['Does not apply']})"
   ]
  },
  {
   "cell_type": "code",
   "execution_count": 54,
   "metadata": {},
   "outputs": [
    {
     "data": {
      "text/html": [
       "<div>\n",
       "<style scoped>\n",
       "    .dataframe tbody tr th:only-of-type {\n",
       "        vertical-align: middle;\n",
       "    }\n",
       "\n",
       "    .dataframe tbody tr th {\n",
       "        vertical-align: top;\n",
       "    }\n",
       "\n",
       "    .dataframe thead th {\n",
       "        text-align: right;\n",
       "    }\n",
       "</style>\n",
       "<table border=\"1\" class=\"dataframe\">\n",
       "  <thead>\n",
       "    <tr style=\"text-align: right;\">\n",
       "      <th></th>\n",
       "      <th>Beer</th>\n",
       "      <th>Brewery</th>\n",
       "      <th>Location</th>\n",
       "      <th>Style</th>\n",
       "      <th>Size</th>\n",
       "      <th>ABV</th>\n",
       "      <th>IBUs</th>\n",
       "    </tr>\n",
       "  </thead>\n",
       "  <tbody>\n",
       "    <tr>\n",
       "      <th>0</th>\n",
       "      <td>Get Together</td>\n",
       "      <td>NorthGate Brewing</td>\n",
       "      <td>Minneapolis, MN</td>\n",
       "      <td>American IPA</td>\n",
       "      <td>16 oz.</td>\n",
       "      <td>4.50%</td>\n",
       "      <td>50.0</td>\n",
       "    </tr>\n",
       "    <tr>\n",
       "      <th>1</th>\n",
       "      <td>Maggie's Leap</td>\n",
       "      <td>NorthGate Brewing</td>\n",
       "      <td>Minneapolis, MN</td>\n",
       "      <td>Milk / Sweet Stout</td>\n",
       "      <td>16 oz.</td>\n",
       "      <td>4.90%</td>\n",
       "      <td>26.0</td>\n",
       "    </tr>\n",
       "    <tr>\n",
       "      <th>2</th>\n",
       "      <td>Wall's End</td>\n",
       "      <td>NorthGate Brewing</td>\n",
       "      <td>Minneapolis, MN</td>\n",
       "      <td>English Brown Ale</td>\n",
       "      <td>16 oz.</td>\n",
       "      <td>4.80%</td>\n",
       "      <td>19.0</td>\n",
       "    </tr>\n",
       "    <tr>\n",
       "      <th>3</th>\n",
       "      <td>Pumpion</td>\n",
       "      <td>NorthGate Brewing</td>\n",
       "      <td>Minneapolis, MN</td>\n",
       "      <td>Pumpkin Ale</td>\n",
       "      <td>16 oz.</td>\n",
       "      <td>6.00%</td>\n",
       "      <td>38.0</td>\n",
       "    </tr>\n",
       "    <tr>\n",
       "      <th>4</th>\n",
       "      <td>Stronghold</td>\n",
       "      <td>NorthGate Brewing</td>\n",
       "      <td>Minneapolis, MN</td>\n",
       "      <td>American Porter</td>\n",
       "      <td>16 oz.</td>\n",
       "      <td>6.00%</td>\n",
       "      <td>25.0</td>\n",
       "    </tr>\n",
       "  </tbody>\n",
       "</table>\n",
       "</div>"
      ],
      "text/plain": [
       "            Beer            Brewery         Location               Style  \\\n",
       "0   Get Together  NorthGate Brewing  Minneapolis, MN        American IPA   \n",
       "1  Maggie's Leap  NorthGate Brewing  Minneapolis, MN  Milk / Sweet Stout   \n",
       "2     Wall's End  NorthGate Brewing  Minneapolis, MN   English Brown Ale   \n",
       "3        Pumpion  NorthGate Brewing  Minneapolis, MN         Pumpkin Ale   \n",
       "4     Stronghold  NorthGate Brewing  Minneapolis, MN     American Porter   \n",
       "\n",
       "     Size    ABV  IBUs  \n",
       "0  16 oz.  4.50%  50.0  \n",
       "1  16 oz.  4.90%  26.0  \n",
       "2  16 oz.  4.80%  19.0  \n",
       "3  16 oz.  6.00%  38.0  \n",
       "4  16 oz.  6.00%  25.0  "
      ]
     },
     "execution_count": 54,
     "metadata": {},
     "output_type": "execute_result"
    }
   ],
   "source": [
    "df.head()"
   ]
  },
  {
   "cell_type": "markdown",
   "metadata": {},
   "source": [
    "## How many rows do you have in the data? What are the column types?"
   ]
  },
  {
   "cell_type": "code",
   "execution_count": 55,
   "metadata": {},
   "outputs": [
    {
     "data": {
      "text/plain": [
       "(2416, 7)"
      ]
     },
     "execution_count": 55,
     "metadata": {},
     "output_type": "execute_result"
    }
   ],
   "source": [
    "df.shape"
   ]
  },
  {
   "cell_type": "code",
   "execution_count": 56,
   "metadata": {},
   "outputs": [
    {
     "name": "stdout",
     "output_type": "stream",
     "text": [
      "<class 'pandas.core.frame.DataFrame'>\n",
      "RangeIndex: 2416 entries, 0 to 2415\n",
      "Data columns (total 7 columns):\n",
      " #   Column    Non-Null Count  Dtype  \n",
      "---  ------    --------------  -----  \n",
      " 0   Beer      2416 non-null   object \n",
      " 1   Brewery   2410 non-null   object \n",
      " 2   Location  2410 non-null   object \n",
      " 3   Style     2405 non-null   object \n",
      " 4   Size      2410 non-null   object \n",
      " 5   ABV       2348 non-null   object \n",
      " 6   IBUs      1405 non-null   float64\n",
      "dtypes: float64(1), object(6)\n",
      "memory usage: 132.3+ KB\n"
     ]
    }
   ],
   "source": [
    "df.info()"
   ]
  },
  {
   "cell_type": "markdown",
   "metadata": {},
   "source": [
    "# Checking out our alcohol"
   ]
  },
  {
   "cell_type": "markdown",
   "metadata": {},
   "source": [
    "## What are the top 10 producers in terms of different cans of beer?"
   ]
  },
  {
   "cell_type": "code",
   "execution_count": 57,
   "metadata": {},
   "outputs": [
    {
     "data": {
      "text/plain": [
       "Brewery\n",
       "Brewery Vivant                62\n",
       "Oskar Blues Brewery           46\n",
       "Sun King Brewing Company      38\n",
       "Cigar City Brewing Company    25\n",
       "Sixpoint Craft Ales           24\n",
       "Hopworks Urban Brewery        23\n",
       "Stevens Point Brewery         22\n",
       "21st Amendment Brewery        20\n",
       "Great Crescent Brewery        20\n",
       "Bonfire Brewing Company       19\n",
       "Name: Beer, dtype: int64"
      ]
     },
     "execution_count": 57,
     "metadata": {},
     "output_type": "execute_result"
    }
   ],
   "source": [
    "df.groupby('Brewery')['Beer'].count().sort_values(ascending=False).head(10)"
   ]
  },
  {
   "cell_type": "markdown",
   "metadata": {},
   "source": [
    "## What is the most common ABV? (alcohol by volume)"
   ]
  },
  {
   "cell_type": "code",
   "execution_count": 58,
   "metadata": {},
   "outputs": [
    {
     "data": {
      "text/plain": [
       "count      2348\n",
       "unique       74\n",
       "top       5.00%\n",
       "freq        215\n",
       "Name: ABV, dtype: object"
      ]
     },
     "execution_count": 58,
     "metadata": {},
     "output_type": "execute_result"
    }
   ],
   "source": [
    "df['ABV'].describe()"
   ]
  },
  {
   "cell_type": "markdown",
   "metadata": {},
   "source": [
    "Oh no! This isn't working like it usually is and it says `dtype: object`"
   ]
  },
  {
   "cell_type": "markdown",
   "metadata": {},
   "source": [
    "## Oh, weird, ABV isn't a number. Convert it to a number for me, please.\n",
    "\n",
    "It's going to take a few steps!\n",
    "\n",
    "### First, let's just look at the ABV column by itself"
   ]
  },
  {
   "cell_type": "code",
   "execution_count": 59,
   "metadata": {},
   "outputs": [
    {
     "data": {
      "text/plain": [
       "0       4.50%\n",
       "1       4.90%\n",
       "2       4.80%\n",
       "3       6.00%\n",
       "4       6.00%\n",
       "        ...  \n",
       "2411    5.30%\n",
       "2412    9.90%\n",
       "2413    8.00%\n",
       "2414    8.70%\n",
       "2415    6.50%\n",
       "Name: ABV, Length: 2416, dtype: object"
      ]
     },
     "execution_count": 59,
     "metadata": {},
     "output_type": "execute_result"
    }
   ],
   "source": [
    "df['ABV']"
   ]
  },
  {
   "cell_type": "markdown",
   "metadata": {},
   "source": [
    "### Hm, `%` isn't part of  a number. Let's remove it.\n",
    "\n",
    "When you're confident you got it right, save the results back into the `ABV` column.\n",
    "\n",
    "- *Tip: In programming the easiest way to remove something is to *replacing it with nothing*.*\n",
    "- *Tip: \"nothing\" might seem like `NaN` sinc we talked about it a lot in class, but in this case it isn't! It's just an empty string, like \"\"*\n",
    "- *Tip: `.replace` is used for replacing ENTIRE cells, while `.str.replace` is useful for replacing PARTS of cells (see my New York example)*"
   ]
  },
  {
   "cell_type": "code",
   "execution_count": 60,
   "metadata": {},
   "outputs": [],
   "source": [
    "df['ABV'] = df['ABV'].str.replace('%','')"
   ]
  },
  {
   "cell_type": "markdown",
   "metadata": {},
   "source": [
    "### Now let's turn `ABV` into a numeric data type\n",
    "\n",
    "Save the results back into the `ABV` column (again), and then check `df.dtypes` to make sure it worked.\n",
    "\n",
    "- *Tip: We used `.astype(int)` during class, but this has a decimal in it...*"
   ]
  },
  {
   "cell_type": "code",
   "execution_count": 61,
   "metadata": {},
   "outputs": [],
   "source": [
    "df['ABV'] = df['ABV'].astype(float)"
   ]
  },
  {
   "cell_type": "markdown",
   "metadata": {},
   "source": [
    "## What's the ABV of the average beer look like?\n",
    "\n",
    "### Show me in two different ways: one command to show the `median`/`mean`/etc, and secondly show me a chart"
   ]
  },
  {
   "cell_type": "code",
   "execution_count": 62,
   "metadata": {},
   "outputs": [
    {
     "data": {
      "text/plain": [
       "count    2348.000000\n",
       "mean        5.977342\n",
       "std         1.354173\n",
       "min         0.100000\n",
       "25%         5.000000\n",
       "50%         5.600000\n",
       "75%         6.700000\n",
       "max        12.800000\n",
       "Name: ABV, dtype: float64"
      ]
     },
     "execution_count": 62,
     "metadata": {},
     "output_type": "execute_result"
    }
   ],
   "source": [
    "df['ABV'].describe()"
   ]
  },
  {
   "cell_type": "code",
   "execution_count": 63,
   "metadata": {},
   "outputs": [
    {
     "data": {
      "text/plain": [
       "<Axes: >"
      ]
     },
     "execution_count": 63,
     "metadata": {},
     "output_type": "execute_result"
    },
    {
     "data": {
      "image/png": "[encoded data removed]",
      "text/plain": [
       "<Figure size 640x480 with 1 Axes>"
      ]
     },
     "metadata": {},
     "output_type": "display_data"
    }
   ],
   "source": [
    "df['ABV'].hist(bins=20)"
   ]
  },
  {
   "cell_type": "markdown",
   "metadata": {},
   "source": [
    "### We don't have ABV for all of the beers, how many are we missing them from?\n",
    "\n",
    "- *Tip: You can use `isnull()` or `notnull()` to see where a column is missing data.*\n",
    "- *Tip: You just want to count how many `True`s and `False`s there are.*\n",
    "- *Tip: It's a weird trick involving something we usually use to count things in a column*"
   ]
  },
  {
   "cell_type": "code",
   "execution_count": 64,
   "metadata": {},
   "outputs": [
    {
     "data": {
      "text/plain": [
       "ABV\n",
       "True     2348\n",
       "False      68\n",
       "Name: count, dtype: int64"
      ]
     },
     "execution_count": 64,
     "metadata": {},
     "output_type": "execute_result"
    }
   ],
   "source": [
    "df['ABV'].notna().value_counts()"
   ]
  },
  {
   "cell_type": "markdown",
   "metadata": {},
   "source": [
    "# Looking at location\n",
    "\n",
    "Brooklyn used to produce 80% of the country's beer! Let's see if it's still true."
   ]
  },
  {
   "cell_type": "markdown",
   "metadata": {},
   "source": [
    "## What are the top 10 cities in the US for canned craft beer?"
   ]
  },
  {
   "cell_type": "code",
   "execution_count": 65,
   "metadata": {},
   "outputs": [
    {
     "data": {
      "text/plain": [
       "Location\n",
       "Grand Rapids, MI    66\n",
       "Chicago, IL         55\n",
       "Portland, OR        52\n",
       "Indianapolis, IN    43\n",
       "San Diego, CA       42\n",
       "Boulder, CO         41\n",
       "Denver, CO          40\n",
       "Brooklyn, NY        38\n",
       "Seattle, WA         35\n",
       "Longmont, CO        33\n",
       "Name: count, dtype: int64"
      ]
     },
     "execution_count": 65,
     "metadata": {},
     "output_type": "execute_result"
    }
   ],
   "source": [
    "df['Location'].value_counts().head(10)"
   ]
  },
  {
   "cell_type": "markdown",
   "metadata": {},
   "source": [
    "## List all of the beer from Brooklyn, NY"
   ]
  },
  {
   "cell_type": "code",
   "execution_count": 66,
   "metadata": {},
   "outputs": [
    {
     "data": {
      "text/html": [
       "<div>\n",
       "<style scoped>\n",
       "    .dataframe tbody tr th:only-of-type {\n",
       "        vertical-align: middle;\n",
       "    }\n",
       "\n",
       "    .dataframe tbody tr th {\n",
       "        vertical-align: top;\n",
       "    }\n",
       "\n",
       "    .dataframe thead th {\n",
       "        text-align: right;\n",
       "    }\n",
       "</style>\n",
       "<table border=\"1\" class=\"dataframe\">\n",
       "  <thead>\n",
       "    <tr style=\"text-align: right;\">\n",
       "      <th></th>\n",
       "      <th>Beer</th>\n",
       "      <th>Brewery</th>\n",
       "      <th>Location</th>\n",
       "      <th>Style</th>\n",
       "      <th>Size</th>\n",
       "      <th>ABV</th>\n",
       "      <th>IBUs</th>\n",
       "    </tr>\n",
       "  </thead>\n",
       "  <tbody>\n",
       "    <tr>\n",
       "      <th>2351</th>\n",
       "      <td>Brooklyn Lager (12 oz.)</td>\n",
       "      <td>Brooklyn Brewery</td>\n",
       "      <td>Brooklyn, NY</td>\n",
       "      <td>American Amber / Red Lager</td>\n",
       "      <td>12 oz.</td>\n",
       "      <td>5.2</td>\n",
       "      <td>NaN</td>\n",
       "    </tr>\n",
       "    <tr>\n",
       "      <th>2219</th>\n",
       "      <td>Brooklyn Summer Ale (2011)</td>\n",
       "      <td>Brooklyn Brewery</td>\n",
       "      <td>Brooklyn, NY</td>\n",
       "      <td>English Pale Mild Ale</td>\n",
       "      <td>12 oz.</td>\n",
       "      <td>4.5</td>\n",
       "      <td>NaN</td>\n",
       "    </tr>\n",
       "    <tr>\n",
       "      <th>2027</th>\n",
       "      <td>East India Pale Ale</td>\n",
       "      <td>Brooklyn Brewery</td>\n",
       "      <td>Brooklyn, NY</td>\n",
       "      <td>English India Pale Ale (IPA)</td>\n",
       "      <td>12 oz.</td>\n",
       "      <td>6.8</td>\n",
       "      <td>47.0</td>\n",
       "    </tr>\n",
       "    <tr>\n",
       "      <th>1857</th>\n",
       "      <td>Brooklyn Summer Ale</td>\n",
       "      <td>Brooklyn Brewery</td>\n",
       "      <td>Brooklyn, NY</td>\n",
       "      <td>English Pale Mild Ale</td>\n",
       "      <td>12 oz.</td>\n",
       "      <td>4.5</td>\n",
       "      <td>NaN</td>\n",
       "    </tr>\n",
       "    <tr>\n",
       "      <th>1373</th>\n",
       "      <td>East India Pale Ale</td>\n",
       "      <td>Brooklyn Brewery</td>\n",
       "      <td>Brooklyn, NY</td>\n",
       "      <td>English India Pale Ale (IPA)</td>\n",
       "      <td>16 oz.</td>\n",
       "      <td>6.8</td>\n",
       "      <td>47.0</td>\n",
       "    </tr>\n",
       "    <tr>\n",
       "      <th>2350</th>\n",
       "      <td>Brooklyn Lager (16 oz.)</td>\n",
       "      <td>Brooklyn Brewery</td>\n",
       "      <td>Brooklyn, NY</td>\n",
       "      <td>American Amber / Red Lager</td>\n",
       "      <td>16 oz.</td>\n",
       "      <td>5.2</td>\n",
       "      <td>NaN</td>\n",
       "    </tr>\n",
       "    <tr>\n",
       "      <th>1962</th>\n",
       "      <td>Hipster Ale (Westbrook Brewing)</td>\n",
       "      <td>Evil Twin Brewing</td>\n",
       "      <td>Brooklyn, NY</td>\n",
       "      <td>American Pale Ale (APA)</td>\n",
       "      <td>12 oz.</td>\n",
       "      <td>5.5</td>\n",
       "      <td>NaN</td>\n",
       "    </tr>\n",
       "    <tr>\n",
       "      <th>1366</th>\n",
       "      <td>Bikini Beer</td>\n",
       "      <td>Evil Twin Brewing</td>\n",
       "      <td>Brooklyn, NY</td>\n",
       "      <td>American IPA</td>\n",
       "      <td>12 oz.</td>\n",
       "      <td>2.7</td>\n",
       "      <td>NaN</td>\n",
       "    </tr>\n",
       "    <tr>\n",
       "      <th>1365</th>\n",
       "      <td>Hipster Ale (Two Roads Brewing)</td>\n",
       "      <td>Evil Twin Brewing</td>\n",
       "      <td>Brooklyn, NY</td>\n",
       "      <td>American Pale Ale (APA)</td>\n",
       "      <td>12 oz.</td>\n",
       "      <td>5.5</td>\n",
       "      <td>NaN</td>\n",
       "    </tr>\n",
       "    <tr>\n",
       "      <th>439</th>\n",
       "      <td>Molotov Lite</td>\n",
       "      <td>Evil Twin Brewing</td>\n",
       "      <td>Brooklyn, NY</td>\n",
       "      <td>American Double / Imperial IPA</td>\n",
       "      <td>16 oz.</td>\n",
       "      <td>8.5</td>\n",
       "      <td>NaN</td>\n",
       "    </tr>\n",
       "    <tr>\n",
       "      <th>404</th>\n",
       "      <td>Nomader Weiss</td>\n",
       "      <td>Evil Twin Brewing</td>\n",
       "      <td>Brooklyn, NY</td>\n",
       "      <td>Berliner Weissbier</td>\n",
       "      <td>12 oz.</td>\n",
       "      <td>4.0</td>\n",
       "      <td>NaN</td>\n",
       "    </tr>\n",
       "    <tr>\n",
       "      <th>987</th>\n",
       "      <td>KelSo Nut Brown Lager</td>\n",
       "      <td>KelSo Beer Company</td>\n",
       "      <td>Brooklyn, NY</td>\n",
       "      <td>Euro Dark Lager</td>\n",
       "      <td>12 oz.</td>\n",
       "      <td>5.7</td>\n",
       "      <td>19.0</td>\n",
       "    </tr>\n",
       "    <tr>\n",
       "      <th>1093</th>\n",
       "      <td>KelSo India Pale Ale</td>\n",
       "      <td>KelSo Beer Company</td>\n",
       "      <td>Brooklyn, NY</td>\n",
       "      <td>American IPA</td>\n",
       "      <td>12 oz.</td>\n",
       "      <td>6.0</td>\n",
       "      <td>64.0</td>\n",
       "    </tr>\n",
       "    <tr>\n",
       "      <th>1305</th>\n",
       "      <td>KelSo Pilsner</td>\n",
       "      <td>KelSo Beer Company</td>\n",
       "      <td>Brooklyn, NY</td>\n",
       "      <td>Czech Pilsener</td>\n",
       "      <td>12 oz.</td>\n",
       "      <td>5.5</td>\n",
       "      <td>23.0</td>\n",
       "    </tr>\n",
       "    <tr>\n",
       "      <th>210</th>\n",
       "      <td>Jammer</td>\n",
       "      <td>Sixpoint Craft Ales</td>\n",
       "      <td>Brooklyn, NY</td>\n",
       "      <td>Gose</td>\n",
       "      <td>12 oz. Slimline</td>\n",
       "      <td>4.2</td>\n",
       "      <td>16.0</td>\n",
       "    </tr>\n",
       "    <tr>\n",
       "      <th>2143</th>\n",
       "      <td>Bengali Tiger (2011)</td>\n",
       "      <td>Sixpoint Craft Ales</td>\n",
       "      <td>Brooklyn, NY</td>\n",
       "      <td>American IPA</td>\n",
       "      <td>16 oz.</td>\n",
       "      <td>6.4</td>\n",
       "      <td>62.0</td>\n",
       "    </tr>\n",
       "    <tr>\n",
       "      <th>2142</th>\n",
       "      <td>Righteous Ale (2011)</td>\n",
       "      <td>Sixpoint Craft Ales</td>\n",
       "      <td>Brooklyn, NY</td>\n",
       "      <td>Rye Beer</td>\n",
       "      <td>16 oz.</td>\n",
       "      <td>6.3</td>\n",
       "      <td>57.0</td>\n",
       "    </tr>\n",
       "    <tr>\n",
       "      <th>2141</th>\n",
       "      <td>Sweet Action (2011)</td>\n",
       "      <td>Sixpoint Craft Ales</td>\n",
       "      <td>Brooklyn, NY</td>\n",
       "      <td>Cream Ale</td>\n",
       "      <td>16 oz.</td>\n",
       "      <td>5.2</td>\n",
       "      <td>34.0</td>\n",
       "    </tr>\n",
       "    <tr>\n",
       "      <th>2140</th>\n",
       "      <td>The Crisp (2011)</td>\n",
       "      <td>Sixpoint Craft Ales</td>\n",
       "      <td>Brooklyn, NY</td>\n",
       "      <td>German Pilsener</td>\n",
       "      <td>16 oz.</td>\n",
       "      <td>5.4</td>\n",
       "      <td>42.0</td>\n",
       "    </tr>\n",
       "    <tr>\n",
       "      <th>2074</th>\n",
       "      <td>Autumnation (2011-12) (2011)</td>\n",
       "      <td>Sixpoint Craft Ales</td>\n",
       "      <td>Brooklyn, NY</td>\n",
       "      <td>Pumpkin Ale</td>\n",
       "      <td>16 oz.</td>\n",
       "      <td>6.0</td>\n",
       "      <td>48.0</td>\n",
       "    </tr>\n",
       "    <tr>\n",
       "      <th>2062</th>\n",
       "      <td>Diesel</td>\n",
       "      <td>Sixpoint Craft Ales</td>\n",
       "      <td>Brooklyn, NY</td>\n",
       "      <td>American Stout</td>\n",
       "      <td>16 oz.</td>\n",
       "      <td>6.3</td>\n",
       "      <td>69.0</td>\n",
       "    </tr>\n",
       "    <tr>\n",
       "      <th>246</th>\n",
       "      <td>Abigale</td>\n",
       "      <td>Sixpoint Craft Ales</td>\n",
       "      <td>Brooklyn, NY</td>\n",
       "      <td>Belgian Pale Ale</td>\n",
       "      <td>12 oz.</td>\n",
       "      <td>8.0</td>\n",
       "      <td>NaN</td>\n",
       "    </tr>\n",
       "    <tr>\n",
       "      <th>1972</th>\n",
       "      <td>Resin</td>\n",
       "      <td>Sixpoint Craft Ales</td>\n",
       "      <td>Brooklyn, NY</td>\n",
       "      <td>American Double / Imperial IPA</td>\n",
       "      <td>12 oz.</td>\n",
       "      <td>9.1</td>\n",
       "      <td>103.0</td>\n",
       "    </tr>\n",
       "    <tr>\n",
       "      <th>1971</th>\n",
       "      <td>Harbinger</td>\n",
       "      <td>Sixpoint Craft Ales</td>\n",
       "      <td>Brooklyn, NY</td>\n",
       "      <td>Saison / Farmhouse Ale</td>\n",
       "      <td>16 oz.</td>\n",
       "      <td>4.9</td>\n",
       "      <td>35.0</td>\n",
       "    </tr>\n",
       "    <tr>\n",
       "      <th>1970</th>\n",
       "      <td>Apollo</td>\n",
       "      <td>Sixpoint Craft Ales</td>\n",
       "      <td>Brooklyn, NY</td>\n",
       "      <td>American Pale Wheat Ale</td>\n",
       "      <td>16 oz.</td>\n",
       "      <td>5.2</td>\n",
       "      <td>11.0</td>\n",
       "    </tr>\n",
       "    <tr>\n",
       "      <th>421</th>\n",
       "      <td>Rad</td>\n",
       "      <td>Sixpoint Craft Ales</td>\n",
       "      <td>Brooklyn, NY</td>\n",
       "      <td>Fruit / Vegetable Beer</td>\n",
       "      <td>16 oz.</td>\n",
       "      <td>3.2</td>\n",
       "      <td>7.0</td>\n",
       "    </tr>\n",
       "    <tr>\n",
       "      <th>1836</th>\n",
       "      <td>Brownstone</td>\n",
       "      <td>Sixpoint Craft Ales</td>\n",
       "      <td>Brooklyn, NY</td>\n",
       "      <td>American Brown Ale</td>\n",
       "      <td>16 oz.</td>\n",
       "      <td>5.9</td>\n",
       "      <td>47.0</td>\n",
       "    </tr>\n",
       "    <tr>\n",
       "      <th>1624</th>\n",
       "      <td>3Beans</td>\n",
       "      <td>Sixpoint Craft Ales</td>\n",
       "      <td>Brooklyn, NY</td>\n",
       "      <td>Baltic Porter</td>\n",
       "      <td>12 oz.</td>\n",
       "      <td>9.9</td>\n",
       "      <td>85.0</td>\n",
       "    </tr>\n",
       "    <tr>\n",
       "      <th>588</th>\n",
       "      <td>Bengali</td>\n",
       "      <td>Sixpoint Craft Ales</td>\n",
       "      <td>Brooklyn, NY</td>\n",
       "      <td>American IPA</td>\n",
       "      <td>24 oz. \"Silo Can\"</td>\n",
       "      <td>6.5</td>\n",
       "      <td>62.0</td>\n",
       "    </tr>\n",
       "    <tr>\n",
       "      <th>713</th>\n",
       "      <td>Sensi Harvest</td>\n",
       "      <td>Sixpoint Craft Ales</td>\n",
       "      <td>Brooklyn, NY</td>\n",
       "      <td>American Pale Ale (APA)</td>\n",
       "      <td>12 oz.</td>\n",
       "      <td>4.7</td>\n",
       "      <td>50.0</td>\n",
       "    </tr>\n",
       "    <tr>\n",
       "      <th>1270</th>\n",
       "      <td>Bengali Tiger</td>\n",
       "      <td>Sixpoint Craft Ales</td>\n",
       "      <td>Brooklyn, NY</td>\n",
       "      <td>American IPA</td>\n",
       "      <td>16 oz.</td>\n",
       "      <td>6.4</td>\n",
       "      <td>62.0</td>\n",
       "    </tr>\n",
       "    <tr>\n",
       "      <th>1269</th>\n",
       "      <td>Righteous Ale</td>\n",
       "      <td>Sixpoint Craft Ales</td>\n",
       "      <td>Brooklyn, NY</td>\n",
       "      <td>Rye Beer</td>\n",
       "      <td>16 oz.</td>\n",
       "      <td>6.3</td>\n",
       "      <td>57.0</td>\n",
       "    </tr>\n",
       "    <tr>\n",
       "      <th>1268</th>\n",
       "      <td>Sweet Action</td>\n",
       "      <td>Sixpoint Craft Ales</td>\n",
       "      <td>Brooklyn, NY</td>\n",
       "      <td>Cream Ale</td>\n",
       "      <td>16 oz.</td>\n",
       "      <td>5.2</td>\n",
       "      <td>34.0</td>\n",
       "    </tr>\n",
       "    <tr>\n",
       "      <th>1267</th>\n",
       "      <td>The Crisp</td>\n",
       "      <td>Sixpoint Craft Ales</td>\n",
       "      <td>Brooklyn, NY</td>\n",
       "      <td>German Pilsener</td>\n",
       "      <td>16 oz.</td>\n",
       "      <td>5.4</td>\n",
       "      <td>42.0</td>\n",
       "    </tr>\n",
       "    <tr>\n",
       "      <th>1074</th>\n",
       "      <td>Autumnation (2013)</td>\n",
       "      <td>Sixpoint Craft Ales</td>\n",
       "      <td>Brooklyn, NY</td>\n",
       "      <td>American IPA</td>\n",
       "      <td>16 oz.</td>\n",
       "      <td>6.7</td>\n",
       "      <td>74.0</td>\n",
       "    </tr>\n",
       "    <tr>\n",
       "      <th>1057</th>\n",
       "      <td>Global Warmer</td>\n",
       "      <td>Sixpoint Craft Ales</td>\n",
       "      <td>Brooklyn, NY</td>\n",
       "      <td>American Strong Ale</td>\n",
       "      <td>12 oz.</td>\n",
       "      <td>7.0</td>\n",
       "      <td>70.0</td>\n",
       "    </tr>\n",
       "    <tr>\n",
       "      <th>969</th>\n",
       "      <td>Hi-Res</td>\n",
       "      <td>Sixpoint Craft Ales</td>\n",
       "      <td>Brooklyn, NY</td>\n",
       "      <td>American Double / Imperial IPA</td>\n",
       "      <td>12 oz.</td>\n",
       "      <td>9.9</td>\n",
       "      <td>111.0</td>\n",
       "    </tr>\n",
       "    <tr>\n",
       "      <th>115</th>\n",
       "      <td>4Beans</td>\n",
       "      <td>Sixpoint Craft Ales</td>\n",
       "      <td>Brooklyn, NY</td>\n",
       "      <td>Baltic Porter</td>\n",
       "      <td>12 oz.</td>\n",
       "      <td>10.0</td>\n",
       "      <td>52.0</td>\n",
       "    </tr>\n",
       "  </tbody>\n",
       "</table>\n",
       "</div>"
      ],
      "text/plain": [
       "                                 Beer              Brewery      Location  \\\n",
       "2351          Brooklyn Lager (12 oz.)     Brooklyn Brewery  Brooklyn, NY   \n",
       "2219       Brooklyn Summer Ale (2011)     Brooklyn Brewery  Brooklyn, NY   \n",
       "2027              East India Pale Ale     Brooklyn Brewery  Brooklyn, NY   \n",
       "1857              Brooklyn Summer Ale     Brooklyn Brewery  Brooklyn, NY   \n",
       "1373              East India Pale Ale     Brooklyn Brewery  Brooklyn, NY   \n",
       "2350          Brooklyn Lager (16 oz.)     Brooklyn Brewery  Brooklyn, NY   \n",
       "1962  Hipster Ale (Westbrook Brewing)    Evil Twin Brewing  Brooklyn, NY   \n",
       "1366                      Bikini Beer    Evil Twin Brewing  Brooklyn, NY   \n",
       "1365  Hipster Ale (Two Roads Brewing)    Evil Twin Brewing  Brooklyn, NY   \n",
       "439                      Molotov Lite    Evil Twin Brewing  Brooklyn, NY   \n",
       "404                     Nomader Weiss    Evil Twin Brewing  Brooklyn, NY   \n",
       "987             KelSo Nut Brown Lager   KelSo Beer Company  Brooklyn, NY   \n",
       "1093             KelSo India Pale Ale   KelSo Beer Company  Brooklyn, NY   \n",
       "1305                    KelSo Pilsner   KelSo Beer Company  Brooklyn, NY   \n",
       "210                            Jammer  Sixpoint Craft Ales  Brooklyn, NY   \n",
       "2143             Bengali Tiger (2011)  Sixpoint Craft Ales  Brooklyn, NY   \n",
       "2142             Righteous Ale (2011)  Sixpoint Craft Ales  Brooklyn, NY   \n",
       "2141              Sweet Action (2011)  Sixpoint Craft Ales  Brooklyn, NY   \n",
       "2140                 The Crisp (2011)  Sixpoint Craft Ales  Brooklyn, NY   \n",
       "2074     Autumnation (2011-12) (2011)  Sixpoint Craft Ales  Brooklyn, NY   \n",
       "2062                           Diesel  Sixpoint Craft Ales  Brooklyn, NY   \n",
       "246                           Abigale  Sixpoint Craft Ales  Brooklyn, NY   \n",
       "1972                            Resin  Sixpoint Craft Ales  Brooklyn, NY   \n",
       "1971                        Harbinger  Sixpoint Craft Ales  Brooklyn, NY   \n",
       "1970                           Apollo  Sixpoint Craft Ales  Brooklyn, NY   \n",
       "421                               Rad  Sixpoint Craft Ales  Brooklyn, NY   \n",
       "1836                       Brownstone  Sixpoint Craft Ales  Brooklyn, NY   \n",
       "1624                           3Beans  Sixpoint Craft Ales  Brooklyn, NY   \n",
       "588                           Bengali  Sixpoint Craft Ales  Brooklyn, NY   \n",
       "713                     Sensi Harvest  Sixpoint Craft Ales  Brooklyn, NY   \n",
       "1270                    Bengali Tiger  Sixpoint Craft Ales  Brooklyn, NY   \n",
       "1269                    Righteous Ale  Sixpoint Craft Ales  Brooklyn, NY   \n",
       "1268                     Sweet Action  Sixpoint Craft Ales  Brooklyn, NY   \n",
       "1267                        The Crisp  Sixpoint Craft Ales  Brooklyn, NY   \n",
       "1074               Autumnation (2013)  Sixpoint Craft Ales  Brooklyn, NY   \n",
       "1057                    Global Warmer  Sixpoint Craft Ales  Brooklyn, NY   \n",
       "969                            Hi-Res  Sixpoint Craft Ales  Brooklyn, NY   \n",
       "115                            4Beans  Sixpoint Craft Ales  Brooklyn, NY   \n",
       "\n",
       "                               Style               Size   ABV   IBUs  \n",
       "2351      American Amber / Red Lager             12 oz.   5.2    NaN  \n",
       "2219           English Pale Mild Ale             12 oz.   4.5    NaN  \n",
       "2027    English India Pale Ale (IPA)             12 oz.   6.8   47.0  \n",
       "1857           English Pale Mild Ale             12 oz.   4.5    NaN  \n",
       "1373    English India Pale Ale (IPA)             16 oz.   6.8   47.0  \n",
       "2350      American Amber / Red Lager             16 oz.   5.2    NaN  \n",
       "1962         American Pale Ale (APA)             12 oz.   5.5    NaN  \n",
       "1366                    American IPA             12 oz.   2.7    NaN  \n",
       "1365         American Pale Ale (APA)             12 oz.   5.5    NaN  \n",
       "439   American Double / Imperial IPA             16 oz.   8.5    NaN  \n",
       "404               Berliner Weissbier             12 oz.   4.0    NaN  \n",
       "987                  Euro Dark Lager             12 oz.   5.7   19.0  \n",
       "1093                    American IPA             12 oz.   6.0   64.0  \n",
       "1305                  Czech Pilsener             12 oz.   5.5   23.0  \n",
       "210                             Gose    12 oz. Slimline   4.2   16.0  \n",
       "2143                    American IPA             16 oz.   6.4   62.0  \n",
       "2142                        Rye Beer             16 oz.   6.3   57.0  \n",
       "2141                       Cream Ale             16 oz.   5.2   34.0  \n",
       "2140                 German Pilsener             16 oz.   5.4   42.0  \n",
       "2074                     Pumpkin Ale             16 oz.   6.0   48.0  \n",
       "2062                  American Stout             16 oz.   6.3   69.0  \n",
       "246                 Belgian Pale Ale             12 oz.   8.0    NaN  \n",
       "1972  American Double / Imperial IPA             12 oz.   9.1  103.0  \n",
       "1971          Saison / Farmhouse Ale             16 oz.   4.9   35.0  \n",
       "1970         American Pale Wheat Ale             16 oz.   5.2   11.0  \n",
       "421           Fruit / Vegetable Beer             16 oz.   3.2    7.0  \n",
       "1836              American Brown Ale             16 oz.   5.9   47.0  \n",
       "1624                   Baltic Porter             12 oz.   9.9   85.0  \n",
       "588                     American IPA  24 oz. \"Silo Can\"   6.5   62.0  \n",
       "713          American Pale Ale (APA)             12 oz.   4.7   50.0  \n",
       "1270                    American IPA             16 oz.   6.4   62.0  \n",
       "1269                        Rye Beer             16 oz.   6.3   57.0  \n",
       "1268                       Cream Ale             16 oz.   5.2   34.0  \n",
       "1267                 German Pilsener             16 oz.   5.4   42.0  \n",
       "1074                    American IPA             16 oz.   6.7   74.0  \n",
       "1057             American Strong Ale             12 oz.   7.0   70.0  \n",
       "969   American Double / Imperial IPA             12 oz.   9.9  111.0  \n",
       "115                    Baltic Porter             12 oz.  10.0   52.0  "
      ]
     },
     "execution_count": 66,
     "metadata": {},
     "output_type": "execute_result"
    }
   ],
   "source": [
    "df[df['Location'] == 'Brooklyn, NY'].sort_values('Brewery')"
   ]
  },
  {
   "cell_type": "markdown",
   "metadata": {},
   "source": [
    "## What brewery in Brooklyn puts out the most different cans of beer?"
   ]
  },
  {
   "cell_type": "code",
   "execution_count": 67,
   "metadata": {},
   "outputs": [
    {
     "data": {
      "text/plain": [
       "Brewery\n",
       "Sixpoint Craft Ales    24\n",
       "Brooklyn Brewery        6\n",
       "Evil Twin Brewing       5\n",
       "KelSo Beer Company      3\n",
       "Name: count, dtype: int64"
      ]
     },
     "execution_count": 67,
     "metadata": {},
     "output_type": "execute_result"
    }
   ],
   "source": [
    "df[df['Location'] == 'Brooklyn, NY']['Brewery'].value_counts()"
   ]
  },
  {
   "cell_type": "markdown",
   "metadata": {},
   "source": [
    "Sixpoint Craft Ales"
   ]
  },
  {
   "cell_type": "markdown",
   "metadata": {},
   "source": [
    "## What are the five most common styles of beer produced by Sixpoint?"
   ]
  },
  {
   "cell_type": "code",
   "execution_count": 68,
   "metadata": {},
   "outputs": [
    {
     "data": {
      "text/plain": [
       "Style\n",
       "American IPA                      4\n",
       "Baltic Porter                     2\n",
       "American Double / Imperial IPA    2\n",
       "German Pilsener                   2\n",
       "Cream Ale                         2\n",
       "Rye Beer                          2\n",
       "Name: count, dtype: int64"
      ]
     },
     "execution_count": 68,
     "metadata": {},
     "output_type": "execute_result"
    }
   ],
   "source": [
    "df[df['Brewery'] == 'Sixpoint Craft Ales']['Style'].value_counts().head(6)"
   ]
  },
  {
   "cell_type": "markdown",
   "metadata": {},
   "source": [
    "To me it makes sense to give the six most common styles of beer because 2-6 are all equally common."
   ]
  },
  {
   "cell_type": "markdown",
   "metadata": {},
   "source": [
    "## List all of the breweries in New York state.\n",
    "\n",
    "- *Tip: We want to match *part* of the `Location` column, but not all of it.*\n",
    "- *Tip: Watch out for `NaN` values! You might be close, but you'll need to pass an extra parameter to make it work without an error.*"
   ]
  },
  {
   "cell_type": "code",
   "execution_count": 69,
   "metadata": {},
   "outputs": [
    {
     "data": {
      "text/plain": [
       "array(['Sixpoint Craft Ales', 'Evil Twin Brewing', 'Chatham Brewing',\n",
       "       'Newburgh Brewing Company', 'Southampton Publick House',\n",
       "       'Montauk Brewing Company', 'Matt Brewing Company',\n",
       "       'The Bronx Brewery', 'KelSo Beer Company', 'Brooklyn Brewery',\n",
       "       'The Manhattan Brewing Company', 'Blue Point Brewing Company',\n",
       "       'Bomb Beer Company', 'Dundee Brewing Company',\n",
       "       'Upstate Brewing Company', 'Butternuts Beer and Ale'], dtype=object)"
      ]
     },
     "execution_count": 69,
     "metadata": {},
     "output_type": "execute_result"
    }
   ],
   "source": [
    "df[df['Location'].str.contains('NY',na=False)]['Brewery'].unique()"
   ]
  },
  {
   "cell_type": "markdown",
   "metadata": {},
   "source": [
    "### Now *count* all of the breweries in New York state"
   ]
  },
  {
   "cell_type": "code",
   "execution_count": 70,
   "metadata": {},
   "outputs": [
    {
     "data": {
      "text/plain": [
       "16"
      ]
     },
     "execution_count": 70,
     "metadata": {},
     "output_type": "execute_result"
    }
   ],
   "source": [
    "len(df[df['Location'].str.contains('NY',na=False)]['Brewery'].unique())"
   ]
  },
  {
   "cell_type": "markdown",
   "metadata": {},
   "source": [
    "# Measuring International Bitterness Units\n",
    "\n",
    "## Display all of the IPAs\n",
    "\n",
    "Include American IPAs, Imperial IPAs, and anything else with \"IPA in it.\"\n",
    "\n",
    "IPA stands for [India Pale Ale](https://www.bonappetit.com/story/ipa-beer-styles), and is probably the most popular kind of beer in the US for people who are drinking [craft beer](https://www.craftbeer.com/beer/what-is-craft-beer)."
   ]
  },
  {
   "cell_type": "code",
   "execution_count": 71,
   "metadata": {},
   "outputs": [
    {
     "data": {
      "text/html": [
       "<div>\n",
       "<style scoped>\n",
       "    .dataframe tbody tr th:only-of-type {\n",
       "        vertical-align: middle;\n",
       "    }\n",
       "\n",
       "    .dataframe tbody tr th {\n",
       "        vertical-align: top;\n",
       "    }\n",
       "\n",
       "    .dataframe thead th {\n",
       "        text-align: right;\n",
       "    }\n",
       "</style>\n",
       "<table border=\"1\" class=\"dataframe\">\n",
       "  <thead>\n",
       "    <tr style=\"text-align: right;\">\n",
       "      <th></th>\n",
       "      <th>Beer</th>\n",
       "      <th>Brewery</th>\n",
       "      <th>Location</th>\n",
       "      <th>Style</th>\n",
       "      <th>Size</th>\n",
       "      <th>ABV</th>\n",
       "      <th>IBUs</th>\n",
       "    </tr>\n",
       "  </thead>\n",
       "  <tbody>\n",
       "    <tr>\n",
       "      <th>0</th>\n",
       "      <td>Get Together</td>\n",
       "      <td>NorthGate Brewing</td>\n",
       "      <td>Minneapolis, MN</td>\n",
       "      <td>American IPA</td>\n",
       "      <td>16 oz.</td>\n",
       "      <td>4.5</td>\n",
       "      <td>50.0</td>\n",
       "    </tr>\n",
       "    <tr>\n",
       "      <th>6</th>\n",
       "      <td>Citra Ass Down</td>\n",
       "      <td>Against the Grain Brewery</td>\n",
       "      <td>Louisville, KY</td>\n",
       "      <td>American Double / Imperial IPA</td>\n",
       "      <td>16 oz.</td>\n",
       "      <td>8.0</td>\n",
       "      <td>68.0</td>\n",
       "    </tr>\n",
       "    <tr>\n",
       "      <th>14</th>\n",
       "      <td>Rico Sauvin</td>\n",
       "      <td>Against the Grain Brewery</td>\n",
       "      <td>Louisville, KY</td>\n",
       "      <td>American Double / Imperial IPA</td>\n",
       "      <td>16 oz.</td>\n",
       "      <td>7.6</td>\n",
       "      <td>68.0</td>\n",
       "    </tr>\n",
       "    <tr>\n",
       "      <th>17</th>\n",
       "      <td>Pile of Face</td>\n",
       "      <td>Against the Grain Brewery</td>\n",
       "      <td>Louisville, KY</td>\n",
       "      <td>American IPA</td>\n",
       "      <td>16 oz.</td>\n",
       "      <td>6.0</td>\n",
       "      <td>65.0</td>\n",
       "    </tr>\n",
       "    <tr>\n",
       "      <th>24</th>\n",
       "      <td>Habitus (2014)</td>\n",
       "      <td>Mike Hess Brewing Company</td>\n",
       "      <td>San Diego, CA</td>\n",
       "      <td>American Double / Imperial IPA</td>\n",
       "      <td>16 oz.</td>\n",
       "      <td>8.0</td>\n",
       "      <td>100.0</td>\n",
       "    </tr>\n",
       "    <tr>\n",
       "      <th>...</th>\n",
       "      <td>...</td>\n",
       "      <td>...</td>\n",
       "      <td>...</td>\n",
       "      <td>...</td>\n",
       "      <td>...</td>\n",
       "      <td>...</td>\n",
       "      <td>...</td>\n",
       "    </tr>\n",
       "    <tr>\n",
       "      <th>2403</th>\n",
       "      <td>Abrasive Ale</td>\n",
       "      <td>Surly Brewing Company</td>\n",
       "      <td>Brooklyn Center, MN</td>\n",
       "      <td>American Double / Imperial IPA</td>\n",
       "      <td>16 oz.</td>\n",
       "      <td>9.7</td>\n",
       "      <td>120.0</td>\n",
       "    </tr>\n",
       "    <tr>\n",
       "      <th>2406</th>\n",
       "      <td>Furious</td>\n",
       "      <td>Surly Brewing Company</td>\n",
       "      <td>Brooklyn Center, MN</td>\n",
       "      <td>American IPA</td>\n",
       "      <td>16 oz.</td>\n",
       "      <td>6.2</td>\n",
       "      <td>99.0</td>\n",
       "    </tr>\n",
       "    <tr>\n",
       "      <th>2408</th>\n",
       "      <td>Brew Free! or Die IPA</td>\n",
       "      <td>21st Amendment Brewery</td>\n",
       "      <td>San Francisco, CA</td>\n",
       "      <td>American IPA</td>\n",
       "      <td>12 oz.</td>\n",
       "      <td>7.0</td>\n",
       "      <td>65.0</td>\n",
       "    </tr>\n",
       "    <tr>\n",
       "      <th>2412</th>\n",
       "      <td>GUBNA Imperial IPA</td>\n",
       "      <td>Oskar Blues Brewery</td>\n",
       "      <td>Longmont, CO</td>\n",
       "      <td>American Double / Imperial IPA</td>\n",
       "      <td>12 oz.</td>\n",
       "      <td>9.9</td>\n",
       "      <td>100.0</td>\n",
       "    </tr>\n",
       "    <tr>\n",
       "      <th>2414</th>\n",
       "      <td>Gordon Ale (2009)</td>\n",
       "      <td>Oskar Blues Brewery</td>\n",
       "      <td>Longmont, CO</td>\n",
       "      <td>American Double / Imperial IPA</td>\n",
       "      <td>12 oz.</td>\n",
       "      <td>8.7</td>\n",
       "      <td>85.0</td>\n",
       "    </tr>\n",
       "  </tbody>\n",
       "</table>\n",
       "<p>571 rows × 7 columns</p>\n",
       "</div>"
      ],
      "text/plain": [
       "                       Beer                    Brewery             Location  \\\n",
       "0              Get Together          NorthGate Brewing      Minneapolis, MN   \n",
       "6            Citra Ass Down  Against the Grain Brewery       Louisville, KY   \n",
       "14              Rico Sauvin  Against the Grain Brewery       Louisville, KY   \n",
       "17             Pile of Face  Against the Grain Brewery       Louisville, KY   \n",
       "24           Habitus (2014)  Mike Hess Brewing Company        San Diego, CA   \n",
       "...                     ...                        ...                  ...   \n",
       "2403           Abrasive Ale      Surly Brewing Company  Brooklyn Center, MN   \n",
       "2406                Furious      Surly Brewing Company  Brooklyn Center, MN   \n",
       "2408  Brew Free! or Die IPA     21st Amendment Brewery    San Francisco, CA   \n",
       "2412     GUBNA Imperial IPA        Oskar Blues Brewery         Longmont, CO   \n",
       "2414      Gordon Ale (2009)        Oskar Blues Brewery         Longmont, CO   \n",
       "\n",
       "                               Style    Size  ABV   IBUs  \n",
       "0                       American IPA  16 oz.  4.5   50.0  \n",
       "6     American Double / Imperial IPA  16 oz.  8.0   68.0  \n",
       "14    American Double / Imperial IPA  16 oz.  7.6   68.0  \n",
       "17                      American IPA  16 oz.  6.0   65.0  \n",
       "24    American Double / Imperial IPA  16 oz.  8.0  100.0  \n",
       "...                              ...     ...  ...    ...  \n",
       "2403  American Double / Imperial IPA  16 oz.  9.7  120.0  \n",
       "2406                    American IPA  16 oz.  6.2   99.0  \n",
       "2408                    American IPA  12 oz.  7.0   65.0  \n",
       "2412  American Double / Imperial IPA  12 oz.  9.9  100.0  \n",
       "2414  American Double / Imperial IPA  12 oz.  8.7   85.0  \n",
       "\n",
       "[571 rows x 7 columns]"
      ]
     },
     "execution_count": 71,
     "metadata": {},
     "output_type": "execute_result"
    }
   ],
   "source": [
    "df[df['Style'].str.contains('IPA',na=False)]"
   ]
  },
  {
   "cell_type": "markdown",
   "metadata": {},
   "source": [
    "IPAs are usually pretty hoppy and bitter. IBU stands for [International Bitterness Unit](http://www.thebrewenthusiast.com/ibus/), and while a lot of places like to brag about having the most bitter beer (it's an American thing!), IBUs don't necessary *mean anything*.\n",
    "\n",
    "Let's look at how different beers have different IBU measurements."
   ]
  },
  {
   "cell_type": "markdown",
   "metadata": {},
   "source": [
    "## Try to get the average IBU measurement across all beers"
   ]
  },
  {
   "cell_type": "code",
   "execution_count": 72,
   "metadata": {},
   "outputs": [
    {
     "data": {
      "text/plain": [
       "count    1405.000000\n",
       "mean       42.713167\n",
       "std        25.954066\n",
       "min         4.000000\n",
       "25%        21.000000\n",
       "50%        35.000000\n",
       "75%        64.000000\n",
       "max       138.000000\n",
       "Name: IBUs, dtype: float64"
      ]
     },
     "execution_count": 72,
     "metadata": {},
     "output_type": "execute_result"
    }
   ],
   "source": [
    "df['IBUs'].describe()"
   ]
  },
  {
   "cell_type": "markdown",
   "metadata": {},
   "source": [
    "### Oh no, it doesn't work!\n",
    "\n",
    "It looks like some of those values *aren't numbers*. There are two ways to fix this:\n",
    "\n",
    "- *Tip: If you use [`na_values`](http://pandas.pydata.org/pandas-docs/version/0.23/generated/pandas.read_csv.html). be sure to go add it up top and run all of your cells again. You can also use `.replace` but I don't think that's as good of an idea.*\n",
    "- *Tip: Make sure you're giving `na_values` a LIST, not just a string*\n",
    "\n",
    "### Now try to get the average IBUs again"
   ]
  },
  {
   "cell_type": "code",
   "execution_count": 74,
   "metadata": {},
   "outputs": [
    {
     "data": {
      "text/plain": [
       "42.71316725978647"
      ]
     },
     "execution_count": 74,
     "metadata": {},
     "output_type": "execute_result"
    }
   ],
   "source": [
    "df['IBUs'].mean()"
   ]
  },
  {
   "cell_type": "markdown",
   "metadata": {},
   "source": [
    "## Draw the distribution of IBU measurements, but with *twenty* bins instead of the default of 10\n",
    "\n",
    "- *Tip: Every time I ask for a distribution, I'm looking for a histogram*\n",
    "- *Tip: Use the `?` to get all of the options for building a histogram*\n",
    "- *Tip: Make sure your `matplotlib` thing is set up right!*"
   ]
  },
  {
   "cell_type": "code",
   "execution_count": 75,
   "metadata": {},
   "outputs": [
    {
     "data": {
      "text/plain": [
       "<Axes: >"
      ]
     },
     "execution_count": 75,
     "metadata": {},
     "output_type": "execute_result"
    },
    {
     "data": {
      "image/png": "[encoded data removed]",
      "text/plain": [
       "<Figure size 640x480 with 1 Axes>"
      ]
     },
     "metadata": {},
     "output_type": "display_data"
    }
   ],
   "source": [
    "df['IBUs'].hist(bins=20)"
   ]
  },
  {
   "cell_type": "markdown",
   "metadata": {},
   "source": [
    "## Hm, Interesting distribution. List all of the beers with IBUs above the 75th percentile\n",
    "\n",
    "- *Tip: There's a single that gives you the 25/50/75th percentile*\n",
    "- *Tip: You can just manually type the number when you list those beers*"
   ]
  },
  {
   "cell_type": "code",
   "execution_count": 84,
   "metadata": {},
   "outputs": [
    {
     "data": {
      "text/html": [
       "<div>\n",
       "<style scoped>\n",
       "    .dataframe tbody tr th:only-of-type {\n",
       "        vertical-align: middle;\n",
       "    }\n",
       "\n",
       "    .dataframe tbody tr th {\n",
       "        vertical-align: top;\n",
       "    }\n",
       "\n",
       "    .dataframe thead th {\n",
       "        text-align: right;\n",
       "    }\n",
       "</style>\n",
       "<table border=\"1\" class=\"dataframe\">\n",
       "  <thead>\n",
       "    <tr style=\"text-align: right;\">\n",
       "      <th></th>\n",
       "      <th>Beer</th>\n",
       "      <th>Brewery</th>\n",
       "      <th>Location</th>\n",
       "      <th>Style</th>\n",
       "      <th>Size</th>\n",
       "      <th>ABV</th>\n",
       "      <th>IBUs</th>\n",
       "    </tr>\n",
       "  </thead>\n",
       "  <tbody>\n",
       "    <tr>\n",
       "      <th>6</th>\n",
       "      <td>Citra Ass Down</td>\n",
       "      <td>Against the Grain Brewery</td>\n",
       "      <td>Louisville, KY</td>\n",
       "      <td>American Double / Imperial IPA</td>\n",
       "      <td>16 oz.</td>\n",
       "      <td>8.0</td>\n",
       "      <td>68.0</td>\n",
       "    </tr>\n",
       "    <tr>\n",
       "      <th>7</th>\n",
       "      <td>London Balling</td>\n",
       "      <td>Against the Grain Brewery</td>\n",
       "      <td>Louisville, KY</td>\n",
       "      <td>English Barleywine</td>\n",
       "      <td>16 oz.</td>\n",
       "      <td>12.5</td>\n",
       "      <td>80.0</td>\n",
       "    </tr>\n",
       "    <tr>\n",
       "      <th>14</th>\n",
       "      <td>Rico Sauvin</td>\n",
       "      <td>Against the Grain Brewery</td>\n",
       "      <td>Louisville, KY</td>\n",
       "      <td>American Double / Imperial IPA</td>\n",
       "      <td>16 oz.</td>\n",
       "      <td>7.6</td>\n",
       "      <td>68.0</td>\n",
       "    </tr>\n",
       "    <tr>\n",
       "      <th>17</th>\n",
       "      <td>Pile of Face</td>\n",
       "      <td>Against the Grain Brewery</td>\n",
       "      <td>Louisville, KY</td>\n",
       "      <td>American IPA</td>\n",
       "      <td>16 oz.</td>\n",
       "      <td>6.0</td>\n",
       "      <td>65.0</td>\n",
       "    </tr>\n",
       "    <tr>\n",
       "      <th>21</th>\n",
       "      <td>Excess IPL</td>\n",
       "      <td>Jack's Abby Craft Lagers</td>\n",
       "      <td>Framingham, MA</td>\n",
       "      <td>American India Pale Lager</td>\n",
       "      <td>16 oz.</td>\n",
       "      <td>7.2</td>\n",
       "      <td>80.0</td>\n",
       "    </tr>\n",
       "    <tr>\n",
       "      <th>...</th>\n",
       "      <td>...</td>\n",
       "      <td>...</td>\n",
       "      <td>...</td>\n",
       "      <td>...</td>\n",
       "      <td>...</td>\n",
       "      <td>...</td>\n",
       "      <td>...</td>\n",
       "    </tr>\n",
       "    <tr>\n",
       "      <th>2408</th>\n",
       "      <td>Brew Free! or Die IPA</td>\n",
       "      <td>21st Amendment Brewery</td>\n",
       "      <td>San Francisco, CA</td>\n",
       "      <td>American IPA</td>\n",
       "      <td>12 oz.</td>\n",
       "      <td>7.0</td>\n",
       "      <td>65.0</td>\n",
       "    </tr>\n",
       "    <tr>\n",
       "      <th>2410</th>\n",
       "      <td>Ten Fidy Imperial Stout</td>\n",
       "      <td>Oskar Blues Brewery</td>\n",
       "      <td>Longmont, CO</td>\n",
       "      <td>Russian Imperial Stout</td>\n",
       "      <td>12 oz.</td>\n",
       "      <td>9.9</td>\n",
       "      <td>98.0</td>\n",
       "    </tr>\n",
       "    <tr>\n",
       "      <th>2412</th>\n",
       "      <td>GUBNA Imperial IPA</td>\n",
       "      <td>Oskar Blues Brewery</td>\n",
       "      <td>Longmont, CO</td>\n",
       "      <td>American Double / Imperial IPA</td>\n",
       "      <td>12 oz.</td>\n",
       "      <td>9.9</td>\n",
       "      <td>100.0</td>\n",
       "    </tr>\n",
       "    <tr>\n",
       "      <th>2414</th>\n",
       "      <td>Gordon Ale (2009)</td>\n",
       "      <td>Oskar Blues Brewery</td>\n",
       "      <td>Longmont, CO</td>\n",
       "      <td>American Double / Imperial IPA</td>\n",
       "      <td>12 oz.</td>\n",
       "      <td>8.7</td>\n",
       "      <td>85.0</td>\n",
       "    </tr>\n",
       "    <tr>\n",
       "      <th>2415</th>\n",
       "      <td>Dale's Pale Ale</td>\n",
       "      <td>Oskar Blues Brewery</td>\n",
       "      <td>Longmont, CO</td>\n",
       "      <td>American Pale Ale (APA)</td>\n",
       "      <td>12 oz.</td>\n",
       "      <td>6.5</td>\n",
       "      <td>65.0</td>\n",
       "    </tr>\n",
       "  </tbody>\n",
       "</table>\n",
       "<p>346 rows × 7 columns</p>\n",
       "</div>"
      ],
      "text/plain": [
       "                         Beer                    Brewery           Location  \\\n",
       "6              Citra Ass Down  Against the Grain Brewery     Louisville, KY   \n",
       "7              London Balling  Against the Grain Brewery     Louisville, KY   \n",
       "14                Rico Sauvin  Against the Grain Brewery     Louisville, KY   \n",
       "17               Pile of Face  Against the Grain Brewery     Louisville, KY   \n",
       "21                 Excess IPL   Jack's Abby Craft Lagers     Framingham, MA   \n",
       "...                       ...                        ...                ...   \n",
       "2408    Brew Free! or Die IPA     21st Amendment Brewery  San Francisco, CA   \n",
       "2410  Ten Fidy Imperial Stout        Oskar Blues Brewery       Longmont, CO   \n",
       "2412       GUBNA Imperial IPA        Oskar Blues Brewery       Longmont, CO   \n",
       "2414        Gordon Ale (2009)        Oskar Blues Brewery       Longmont, CO   \n",
       "2415          Dale's Pale Ale        Oskar Blues Brewery       Longmont, CO   \n",
       "\n",
       "                               Style    Size   ABV   IBUs  \n",
       "6     American Double / Imperial IPA  16 oz.   8.0   68.0  \n",
       "7                 English Barleywine  16 oz.  12.5   80.0  \n",
       "14    American Double / Imperial IPA  16 oz.   7.6   68.0  \n",
       "17                      American IPA  16 oz.   6.0   65.0  \n",
       "21         American India Pale Lager  16 oz.   7.2   80.0  \n",
       "...                              ...     ...   ...    ...  \n",
       "2408                    American IPA  12 oz.   7.0   65.0  \n",
       "2410          Russian Imperial Stout  12 oz.   9.9   98.0  \n",
       "2412  American Double / Imperial IPA  12 oz.   9.9  100.0  \n",
       "2414  American Double / Imperial IPA  12 oz.   8.7   85.0  \n",
       "2415         American Pale Ale (APA)  12 oz.   6.5   65.0  \n",
       "\n",
       "[346 rows x 7 columns]"
      ]
     },
     "execution_count": 84,
     "metadata": {},
     "output_type": "execute_result"
    }
   ],
   "source": [
    "df[df['IBUs'] > df['IBUs'].quantile(0.75)]"
   ]
  },
  {
   "cell_type": "markdown",
   "metadata": {},
   "source": [
    "## List all of the beers with IBUs below the 25th percentile"
   ]
  },
  {
   "cell_type": "code",
   "execution_count": 85,
   "metadata": {},
   "outputs": [
    {
     "data": {
      "text/html": [
       "<div>\n",
       "<style scoped>\n",
       "    .dataframe tbody tr th:only-of-type {\n",
       "        vertical-align: middle;\n",
       "    }\n",
       "\n",
       "    .dataframe tbody tr th {\n",
       "        vertical-align: top;\n",
       "    }\n",
       "\n",
       "    .dataframe thead th {\n",
       "        text-align: right;\n",
       "    }\n",
       "</style>\n",
       "<table border=\"1\" class=\"dataframe\">\n",
       "  <thead>\n",
       "    <tr style=\"text-align: right;\">\n",
       "      <th></th>\n",
       "      <th>Beer</th>\n",
       "      <th>Brewery</th>\n",
       "      <th>Location</th>\n",
       "      <th>Style</th>\n",
       "      <th>Size</th>\n",
       "      <th>ABV</th>\n",
       "      <th>IBUs</th>\n",
       "    </tr>\n",
       "  </thead>\n",
       "  <tbody>\n",
       "    <tr>\n",
       "      <th>2</th>\n",
       "      <td>Wall's End</td>\n",
       "      <td>NorthGate Brewing</td>\n",
       "      <td>Minneapolis, MN</td>\n",
       "      <td>English Brown Ale</td>\n",
       "      <td>16 oz.</td>\n",
       "      <td>4.8</td>\n",
       "      <td>19.0</td>\n",
       "    </tr>\n",
       "    <tr>\n",
       "      <th>12</th>\n",
       "      <td>Sho'nuff</td>\n",
       "      <td>Against the Grain Brewery</td>\n",
       "      <td>Louisville, KY</td>\n",
       "      <td>Belgian Pale Ale</td>\n",
       "      <td>16 oz.</td>\n",
       "      <td>4.0</td>\n",
       "      <td>13.0</td>\n",
       "    </tr>\n",
       "    <tr>\n",
       "      <th>13</th>\n",
       "      <td>Bloody Show</td>\n",
       "      <td>Against the Grain Brewery</td>\n",
       "      <td>Louisville, KY</td>\n",
       "      <td>American Pilsner</td>\n",
       "      <td>16 oz.</td>\n",
       "      <td>5.5</td>\n",
       "      <td>17.0</td>\n",
       "    </tr>\n",
       "    <tr>\n",
       "      <th>18</th>\n",
       "      <td>The Brown Note</td>\n",
       "      <td>Against the Grain Brewery</td>\n",
       "      <td>Louisville, KY</td>\n",
       "      <td>English Brown Ale</td>\n",
       "      <td>16 oz.</td>\n",
       "      <td>5.0</td>\n",
       "      <td>20.0</td>\n",
       "    </tr>\n",
       "    <tr>\n",
       "      <th>19</th>\n",
       "      <td>House Lager</td>\n",
       "      <td>Jack's Abby Craft Lagers</td>\n",
       "      <td>Framingham, MA</td>\n",
       "      <td>Keller Bier / Zwickel Bier</td>\n",
       "      <td>16 oz.</td>\n",
       "      <td>5.2</td>\n",
       "      <td>18.0</td>\n",
       "    </tr>\n",
       "    <tr>\n",
       "      <th>...</th>\n",
       "      <td>...</td>\n",
       "      <td>...</td>\n",
       "      <td>...</td>\n",
       "      <td>...</td>\n",
       "      <td>...</td>\n",
       "      <td>...</td>\n",
       "      <td>...</td>\n",
       "    </tr>\n",
       "    <tr>\n",
       "      <th>2372</th>\n",
       "      <td>Bombshell Blonde</td>\n",
       "      <td>Southern Star Brewing Company</td>\n",
       "      <td>Conroe, TX</td>\n",
       "      <td>American Blonde Ale</td>\n",
       "      <td>12 oz.</td>\n",
       "      <td>5.0</td>\n",
       "      <td>20.0</td>\n",
       "    </tr>\n",
       "    <tr>\n",
       "      <th>2385</th>\n",
       "      <td>Bikini Blonde Lager</td>\n",
       "      <td>Maui Brewing Company</td>\n",
       "      <td>Lahaina, HI</td>\n",
       "      <td>Munich Helles Lager</td>\n",
       "      <td>12 oz.</td>\n",
       "      <td>4.5</td>\n",
       "      <td>18.0</td>\n",
       "    </tr>\n",
       "    <tr>\n",
       "      <th>2396</th>\n",
       "      <td>Royal Weisse Ale</td>\n",
       "      <td>Sly Fox Brewing Company</td>\n",
       "      <td>Pottstown, PA</td>\n",
       "      <td>Hefeweizen</td>\n",
       "      <td>12 oz.</td>\n",
       "      <td>5.6</td>\n",
       "      <td>11.0</td>\n",
       "    </tr>\n",
       "    <tr>\n",
       "      <th>2404</th>\n",
       "      <td>Hell</td>\n",
       "      <td>Surly Brewing Company</td>\n",
       "      <td>Brooklyn Center, MN</td>\n",
       "      <td>Keller Bier / Zwickel Bier</td>\n",
       "      <td>16 oz.</td>\n",
       "      <td>5.1</td>\n",
       "      <td>20.0</td>\n",
       "    </tr>\n",
       "    <tr>\n",
       "      <th>2409</th>\n",
       "      <td>Hell or High Watermelon Wheat</td>\n",
       "      <td>21st Amendment Brewery</td>\n",
       "      <td>San Francisco, CA</td>\n",
       "      <td>Fruit / Vegetable Beer</td>\n",
       "      <td>12 oz.</td>\n",
       "      <td>4.9</td>\n",
       "      <td>17.0</td>\n",
       "    </tr>\n",
       "  </tbody>\n",
       "</table>\n",
       "<p>338 rows × 7 columns</p>\n",
       "</div>"
      ],
      "text/plain": [
       "                               Beer                        Brewery  \\\n",
       "2                        Wall's End              NorthGate Brewing   \n",
       "12                         Sho'nuff      Against the Grain Brewery   \n",
       "13                      Bloody Show      Against the Grain Brewery   \n",
       "18                   The Brown Note      Against the Grain Brewery   \n",
       "19                      House Lager       Jack's Abby Craft Lagers   \n",
       "...                             ...                            ...   \n",
       "2372               Bombshell Blonde  Southern Star Brewing Company   \n",
       "2385            Bikini Blonde Lager           Maui Brewing Company   \n",
       "2396               Royal Weisse Ale        Sly Fox Brewing Company   \n",
       "2404                           Hell          Surly Brewing Company   \n",
       "2409  Hell or High Watermelon Wheat         21st Amendment Brewery   \n",
       "\n",
       "                 Location                       Style    Size  ABV  IBUs  \n",
       "2         Minneapolis, MN           English Brown Ale  16 oz.  4.8  19.0  \n",
       "12         Louisville, KY            Belgian Pale Ale  16 oz.  4.0  13.0  \n",
       "13         Louisville, KY            American Pilsner  16 oz.  5.5  17.0  \n",
       "18         Louisville, KY           English Brown Ale  16 oz.  5.0  20.0  \n",
       "19         Framingham, MA  Keller Bier / Zwickel Bier  16 oz.  5.2  18.0  \n",
       "...                   ...                         ...     ...  ...   ...  \n",
       "2372           Conroe, TX         American Blonde Ale  12 oz.  5.0  20.0  \n",
       "2385          Lahaina, HI         Munich Helles Lager  12 oz.  4.5  18.0  \n",
       "2396        Pottstown, PA                  Hefeweizen  12 oz.  5.6  11.0  \n",
       "2404  Brooklyn Center, MN  Keller Bier / Zwickel Bier  16 oz.  5.1  20.0  \n",
       "2409    San Francisco, CA      Fruit / Vegetable Beer  12 oz.  4.9  17.0  \n",
       "\n",
       "[338 rows x 7 columns]"
      ]
     },
     "execution_count": 85,
     "metadata": {},
     "output_type": "execute_result"
    }
   ],
   "source": [
    "df[df['IBUs'] < df['IBUs'].quantile(0.25)]"
   ]
  },
  {
   "cell_type": "markdown",
   "metadata": {},
   "source": [
    "## List the median IBUs of each type of beer. Graph it.\n",
    "\n",
    "Put the highest at the top, and the missing ones at the bottom.\n",
    "\n",
    "- Tip: Look at the options for `sort_values` to figure out the `NaN` thing. The `?` probably won't help you here."
   ]
  },
  {
   "cell_type": "code",
   "execution_count": 92,
   "metadata": {},
   "outputs": [
    {
     "data": {
      "text/plain": [
       "Style\n",
       "American Barleywine                   96.0\n",
       "Russian Imperial Stout                94.0\n",
       "American Double / Imperial IPA        91.0\n",
       "American Double / Imperial Pilsner    85.0\n",
       "American Black Ale                    73.0\n",
       "                                      ... \n",
       "Herbed / Spiced Beer                  15.0\n",
       "Light Lager                           12.0\n",
       "Gose                                  10.0\n",
       "American Adjunct Lager                 9.0\n",
       "Berliner Weissbier                     8.0\n",
       "Name: IBUs, Length: 90, dtype: float64"
      ]
     },
     "execution_count": 92,
     "metadata": {},
     "output_type": "execute_result"
    }
   ],
   "source": [
    "df[df['IBUs'].notna()].groupby('Style')['IBUs'].median().sort_values(ascending=False)"
   ]
  },
  {
   "cell_type": "code",
   "execution_count": 103,
   "metadata": {},
   "outputs": [
    {
     "data": {
      "text/plain": [
       "<Axes: ylabel='Style'>"
      ]
     },
     "execution_count": 103,
     "metadata": {},
     "output_type": "execute_result"
    },
    {
     "data": {
      "image/png": "[encoded data removed]",
      "text/plain": [
       "<Figure size 500x2000 with 1 Axes>"
      ]
     },
     "metadata": {},
     "output_type": "display_data"
    }
   ],
   "source": [
    "df[df['IBUs'].notna()].groupby('Style')['IBUs'].median().sort_values().plot(kind='barh',figsize=(5,20))"
   ]
  },
  {
   "cell_type": "markdown",
   "metadata": {},
   "source": [
    "## Hmmmm, it looks like they are generally different styles. What are the most common 5 styles of high-IBU beer vs. low-IBU beer?\n",
    "\n",
    "- *Tip: You'll want to think about it in three pieces - filtering to only find the specific beers beers, then finding out what the most common styles are, then getting the top 5.*\n",
    "- *Tip: You CANNOT do this in one command. It's going to be one command for the high and one for the low.*\n",
    "- *Tip: \"High IBU\" means higher than 75th percentile, \"Low IBU\" is under 25th percentile*"
   ]
  },
  {
   "cell_type": "code",
   "execution_count": 113,
   "metadata": {},
   "outputs": [
    {
     "data": {
      "text/plain": [
       "Style\n",
       "American IPA                      195\n",
       "American Double / Imperial IPA     72\n",
       "American Pale Ale (APA)            18\n",
       "American Black Ale                 15\n",
       "American Strong Ale                 9\n",
       "Name: count, dtype: int64"
      ]
     },
     "execution_count": 113,
     "metadata": {},
     "output_type": "execute_result"
    }
   ],
   "source": [
    "df[df['IBUs'] > df['IBUs'].quantile(0.75)]['Style'].value_counts().head(5)"
   ]
  },
  {
   "cell_type": "code",
   "execution_count": 114,
   "metadata": {},
   "outputs": [
    {
     "data": {
      "text/plain": [
       "Style\n",
       "American Pale Wheat Ale    43\n",
       "American Blonde Ale        36\n",
       "Fruit / Vegetable Beer     28\n",
       "Hefeweizen                 21\n",
       "Witbier                    20\n",
       "Name: count, dtype: int64"
      ]
     },
     "execution_count": 114,
     "metadata": {},
     "output_type": "execute_result"
    }
   ],
   "source": [
    "df[df['IBUs'] < df['IBUs'].quantile(0.25)]['Style'].value_counts().head(5)"
   ]
  },
  {
   "cell_type": "markdown",
   "metadata": {},
   "source": [
    "## Get the average IBU of \"Witbier\", \"Hefeweizen\" and \"American Pale Wheat Ale\" styles\n",
    "\n",
    "I'm counting these as wheat beers. If you see any other wheat beer categories, feel free to include them. I want ONE measurement and ONE graph, not three separate ones. And 20 to 30 bins in the histogram, please.\n",
    "\n",
    "- *Tip: I hope that `isin` is in your toolbox*"
   ]
  },
  {
   "cell_type": "code",
   "execution_count": 118,
   "metadata": {},
   "outputs": [
    {
     "data": {
      "text/plain": [
       "18.982142857142858"
      ]
     },
     "execution_count": 118,
     "metadata": {},
     "output_type": "execute_result"
    }
   ],
   "source": [
    "df[df['Style'].isin(['Witbier','Hefeweizen','American Pale Wheat Ale'])]['IBUs'].mean()"
   ]
  },
  {
   "cell_type": "markdown",
   "metadata": {},
   "source": [
    "## Draw a histogram of the IBUs of those beers"
   ]
  },
  {
   "cell_type": "code",
   "execution_count": 120,
   "metadata": {},
   "outputs": [
    {
     "data": {
      "text/plain": [
       "<Axes: >"
      ]
     },
     "execution_count": 120,
     "metadata": {},
     "output_type": "execute_result"
    },
    {
     "data": {
      "image/png": "[encoded data removed]",
      "text/plain": [
       "<Figure size 640x480 with 1 Axes>"
      ]
     },
     "metadata": {},
     "output_type": "display_data"
    }
   ],
   "source": [
    "df[df['Style'].isin(['Witbier','Hefeweizen','American Pale Wheat Ale'])]['IBUs'].hist(bins=20)"
   ]
  },
  {
   "cell_type": "markdown",
   "metadata": {},
   "source": [
    "## Get the average IBU of any style with \"IPA\" in it (also draw a histogram)"
   ]
  },
  {
   "cell_type": "code",
   "execution_count": 122,
   "metadata": {},
   "outputs": [
    {
     "data": {
      "text/plain": [
       "71.94897959183673"
      ]
     },
     "execution_count": 122,
     "metadata": {},
     "output_type": "execute_result"
    }
   ],
   "source": [
    "df[df['Style'].str.contains('IPA',na=False)]['IBUs'].mean()"
   ]
  },
  {
   "cell_type": "code",
   "execution_count": 123,
   "metadata": {},
   "outputs": [
    {
     "data": {
      "text/plain": [
       "<Axes: >"
      ]
     },
     "execution_count": 123,
     "metadata": {},
     "output_type": "execute_result"
    },
    {
     "data": {
      "image/png": "[encoded data removed]",
      "text/plain": [
       "<Figure size 640x480 with 1 Axes>"
      ]
     },
     "metadata": {},
     "output_type": "display_data"
    }
   ],
   "source": [
    "df[df['Style'].str.contains('IPA',na=False)]['IBUs'].hist(bins=20)"
   ]
  },
  {
   "cell_type": "markdown",
   "metadata": {},
   "source": [
    "## Plot those two histograms in the same cell!\n",
    "\n",
    "I swear the behavior of this changes every year. Does it make two charts? Does it overlap them in one?"
   ]
  },
  {
   "cell_type": "code",
   "execution_count": 129,
   "metadata": {},
   "outputs": [
    {
     "data": {
      "text/plain": [
       "<Axes: >"
      ]
     },
     "execution_count": 129,
     "metadata": {},
     "output_type": "execute_result"
    },
    {
     "data": {
      "image/png": "[encoded data removed]",
      "text/plain": [
       "<Figure size 640x480 with 1 Axes>"
      ]
     },
     "metadata": {},
     "output_type": "display_data"
    }
   ],
   "source": [
    "df[df['Style'].isin(['Witbier','Hefeweizen','American Pale Wheat Ale'])]['IBUs'].hist(bins=20,alpha=0.)\n",
    "df[df['Style'].str.contains('IPA',na=False)]['IBUs'].hist(bins=20,alpha=0.6)"
   ]
  },
  {
   "cell_type": "markdown",
   "metadata": {},
   "source": [
    "## Compare the ABV of wheat beers vs. IPAs : their IBUs were really different, but how about their alcohol percentage?\n",
    "\n",
    "Wheat beers might include witbier, hefeweizen, American Pale Wheat Ale, and anything else you think is wheaty. IPAs probably have \"IPA\" in their name."
   ]
  },
  {
   "cell_type": "code",
   "execution_count": 133,
   "metadata": {},
   "outputs": [
    {
     "data": {
      "text/plain": [
       "count    190.000000\n",
       "mean       5.054737\n",
       "std        0.808456\n",
       "min        3.700000\n",
       "25%        4.600000\n",
       "50%        5.000000\n",
       "75%        5.400000\n",
       "max        9.200000\n",
       "Name: ABV, dtype: float64"
      ]
     },
     "execution_count": 133,
     "metadata": {},
     "output_type": "execute_result"
    }
   ],
   "source": [
    "df[(df['Style'].isin(['Witbier','Hefeweizen'])) | (df['Style'].str.contains('Wheat'))]['ABV'].describe()"
   ]
  },
  {
   "cell_type": "code",
   "execution_count": 137,
   "metadata": {},
   "outputs": [
    {
     "data": {
      "text/plain": [
       "count    560.000000\n",
       "mean       6.879286\n",
       "std        1.240232\n",
       "min        2.700000\n",
       "25%        6.200000\n",
       "50%        6.800000\n",
       "75%        7.500000\n",
       "max        9.900000\n",
       "Name: ABV, dtype: float64"
      ]
     },
     "execution_count": 137,
     "metadata": {},
     "output_type": "execute_result"
    }
   ],
   "source": [
    "df[df['Style'].str.contains('IPA',na=False)]['ABV'].describe()"
   ]
  },
  {
   "cell_type": "code",
   "execution_count": 132,
   "metadata": {},
   "outputs": [
    {
     "data": {
      "text/plain": [
       "<Axes: >"
      ]
     },
     "execution_count": 132,
     "metadata": {},
     "output_type": "execute_result"
    },
    {
     "data": {
      "image/png": "[encoded data removed]",
      "text/plain": [
       "<Figure size 640x480 with 1 Axes>"
      ]
     },
     "metadata": {},
     "output_type": "display_data"
    }
   ],
   "source": [
    "df[(df['Style'].isin(['Witbier','Hefeweizen'])) | (df['Style'].str.contains('Wheat'))]['ABV'].hist(bins=20,alpha=0.6)\n",
    "df[df['Style'].str.contains('IPA',na=False)]['ABV'].hist(bins=20,alpha=0.6)"
   ]
  },
  {
   "cell_type": "markdown",
   "metadata": {},
   "source": [
    "IPAs have a higher ABV on average"
   ]
  },
  {
   "cell_type": "markdown",
   "metadata": {
    "collapsed": true,
    "jupyter": {
     "outputs_hidden": true
    }
   },
   "source": [
    "## Good work!"
   ]
  },
  {
   "cell_type": "markdown",
   "metadata": {},
   "source": [
    "🍻"
   ]
  }
 ],
 "metadata": {
  "kernelspec": {
   "display_name": "Python 3 (ipykernel)",
   "language": "python",
   "name": "python3"
  },
  "language_info": {
   "codemirror_mode": {
    "name": "ipython",
    "version": 3
   },
   "file_extension": ".py",
   "mimetype": "text/x-python",
   "name": "python",
   "nbconvert_exporter": "python",
   "pygments_lexer": "ipython3",
   "version": "3.11.5"
  }
 },
 "nbformat": 4,
 "nbformat_minor": 4
}
